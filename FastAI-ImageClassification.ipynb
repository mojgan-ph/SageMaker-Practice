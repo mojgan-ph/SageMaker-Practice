{
 "cells": [
  {
   "cell_type": "code",
   "execution_count": 10,
   "metadata": {},
   "outputs": [],
   "source": [
    "from fastai.vision import *\n",
    "from fastai.metrics import error_rate, dice, accuracy\n",
    "import os\n",
    "import boto3"
   ]
  },
  {
   "cell_type": "code",
   "execution_count": 12,
   "metadata": {},
   "outputs": [],
   "source": [
    "%reload_ext autoreload\n",
    "%autoreload 2\n",
    "%matplotlib inline"
   ]
  },
  {
   "cell_type": "code",
   "execution_count": 13,
   "metadata": {},
   "outputs": [],
   "source": [
    "client = boto3.client('s3')"
   ]
  },
  {
   "cell_type": "markdown",
   "metadata": {},
   "source": [
    "# Copy the data from a Kaggle competition to S3"
   ]
  },
  {
   "cell_type": "markdown",
   "metadata": {},
   "source": [
    "### I tried using Kaggle CLI to upload the data directly to AWS but it failed eventually!"
   ]
  },
  {
   "cell_type": "markdown",
   "metadata": {},
   "source": [
    "In AWS, open a terminal, for example from a SageMaker notebook instance jupyter lab and install Kaggle CLI:<br>\n",
    "$\\;\\;\\;\\;\\;$ pip install kaggle<br>\n",
    "Go to your kaggle account, make an API token<br>\n",
    "In AWS local instance, make a file with path and name /home/ec2-user/.kaggle/kaggle.json with the token content:<br>\n",
    "$\\;\\;\\;\\;\\;$ nano .kaggle/kaggle.json (do so by nano or vim or any text editor you like, copy from there and paste here)<br> \n",
    "$\\;\\;\\;\\;\\;$ chmod 0600 kaggle.json (make it unreadable for others) <br>\n",
    "\n",
    "Now you can run kaggle api commands (CLI): <br>\n",
    "$\\;\\;\\;\\;\\;$ kaggle competitions list (this should list all competitions)<br>\n",
    "$\\;\\;\\;\\;\\;$ kaggle competitions files name-of-your-competition (have a look at the files of the competition you are interested in) <br>\n",
    "$\\;\\;\\;\\;\\;$ kaggle competitions download -p local-folder-for-your-data name-of-your-competition (this should download all those files for you)<br>\n",
    "\n",
    "Error: ran out of space!! Even though I increased the instance space size to 150G. The data was 100G"
   ]
  },
  {
   "cell_type": "markdown",
   "metadata": {},
   "source": [
    "### so I downloaded the data to my computer and uploaded it to AWS S3 by AWS CLI "
   ]
  },
  {
   "cell_type": "markdown",
   "metadata": {},
   "source": [
    "First I installed AWS CLI:<br>\n",
    "$\\;\\;\\;\\;\\;$ pip3 install --upgrade --user awscli<br>\n",
    "$\\;\\;\\;\\;\\;$ (note: I needed to add the path “/Users/mojgan/.local/bin”, where aws was installed, to PATH)<br>\n",
    "I made a user in AWS IAM, and created an access key for it. I downloaded the generated csv file instantly.\n",
    "Then I created a credentials file in ~/.aws and copied the information from the downloaded csv file into it, with the following format: <br>\n",
    "$\\;\\;\\;\\;\\;$ [default] <br>\n",
    "$\\;\\;\\;\\;\\;$ aws_access_key_id = your_access_key_id <br>\n",
    "$\\;\\;\\;\\;\\;$ aws_secret_access_key = your_secret_access_key <br>\n",
    "\n",
    "Now do the copy (does not copy a whole folder, so it has to be a zip file if there are many files)<br>\n",
    "$\\;\\;\\;\\;\\;$aws s3 cp local-path-to-file/my-file.zip s3://my-bucket-name/prefix-or-folder-name/"
   ]
  },
  {
   "cell_type": "markdown",
   "metadata": {},
   "source": [
    "### write a bucket policy, to give access to your IAM role"
   ]
  },
  {
   "cell_type": "markdown",
   "metadata": {},
   "source": [
    "For having access to my s3 bucket from my notebook, I had to write a policy for my user role and my bucket:\n",
    "\n",
    "```\n",
    "{\n",
    "    \"Version\": \"...\",\n",
    "    \"Id\": \"...\",\n",
    "    \"Statement\": [\n",
    "        {\n",
    "            \"Sid\": \"...\",\n",
    "            \"Effect\": \"Allow\",\n",
    "            \"Principal\": {\n",
    "                \"AWS\": \"arn:aws:iam::...\"\n",
    "            },\n",
    "            \"Action\": \"s3:*\",\n",
    "            \"Resource\": \"arn:aws:s3:::my-bucket-name/*\"\n",
    "        }\n",
    "    ]\n",
    "}\n",
    "```\n",
    "Action s3:* allowes everything on the named s3 bucket. \n",
    "\n",
    "\n",
    "If you do not have this /* at the end of your bucket name, it does not give you access to the files in the bucket. You would only have access to list the things that are in the bucket. But with /* the problem is fixed"
   ]
  },
  {
   "cell_type": "markdown",
   "metadata": {},
   "source": [
    "### The following helps with making s3 paths and listing, uploading and downloading files"
   ]
  },
  {
   "cell_type": "markdown",
   "metadata": {},
   "source": [
    "```python\n",
    "region = boto3.Session().region_name\n",
    "bucket_path = 'https://s3-{}.amazonaws.com/{}'.format(region,'my-bucket-name')\n",
    "file_path = 'https://s3-{}.amazonaws.com/{}{}'.format(region,'my-bucket-name', 'key')\n",
    "```"
   ]
  },
  {
   "cell_type": "markdown",
   "metadata": {},
   "source": [
    "list all files in a bucket (with automatic paginating I assume)\n",
    "```python\n",
    "bucket=boto3.Session().resource('s3').Bucket('my-bucket-name')\n",
    "  for obj in bucket.objects.all():\n",
    "     print(obj.key)\n",
    "```"
   ]
  },
  {
   "cell_type": "markdown",
   "metadata": {},
   "source": [
    "list all files (up to 1000, I have set it to 100 here) with a prefix (in a folder) in the bucket. We need boto3 client for this, rather than resource\n",
    "```python\n",
    "s3 = boto3.client(\"s3\")\n",
    "response = s3.list_objects_v2(\n",
    "        Bucket=\"my-bucket-name\",\n",
    "        Prefix ='prefix',\n",
    "        MaxKeys=100 )\n",
    "if(response['KeyCount']>0)\n",
    "  for content in response['Contents']:\n",
    "      print(content['Key'])\n",
    "```\n",
    "we can also do the following for each content, and get the object and print the body or the last modified date\n",
    "```python\n",
    "obj_dict = client.get_object(Bucket='my-bucket-name', Key=content['Key'])\n",
    "    print(content['Key'], obj_dict['LastModified'])\n",
    "```"
   ]
  },
  {
   "cell_type": "markdown",
   "metadata": {},
   "source": [
    "uses paginator to count all files with a prefix in the bucket, and do something with the files\n",
    "```python\n",
    "client = boto3.client('s3')\n",
    "paginator = client.get_paginator('list_objects_v2')\n",
    "page_iterator = paginator.paginate(Bucket='my-bucket-name', Prefix ='prefix')\n",
    "for page in page_iterator:\n",
    "    print(len(page['Contents']))\n",
    "    for content in page['Contents']:\n",
    "        #do what ever you want with content \n",
    "```"
   ]
  },
  {
   "cell_type": "markdown",
   "metadata": {},
   "source": [
    "upload file \n",
    "```python \n",
    "s3_client = boto3.client('s3')\n",
    "s3_client.upload_file(\n",
    "    file_name, \n",
    "    Bucket=\"my-bucket-name\",\n",
    "    Key='prefix/filename'\n",
    ")\n",
    "```"
   ]
  },
  {
   "cell_type": "markdown",
   "metadata": {},
   "source": [
    "upload file object\n",
    "```python \n",
    "s3_client = boto3.client('s3')\n",
    "with open(\"FILE_NAME\", \"rb\") as file_object: \n",
    "    # file must be open in binary mode (rb is read access and binary mode)\n",
    "    s3_client.upload_fileobj(\n",
    "    file_object,\n",
    "    Bucket=\"my-bucket-name\",\n",
    "    Key='prefix/filename'\n",
    ")\n",
    "```"
   ]
  },
  {
   "cell_type": "markdown",
   "metadata": {},
   "source": [
    "copy a file from s3 to s3\n",
    "```python\n",
    "s3_resource = boto3.resource(\"s3\")\n",
    "copy_source = {\n",
    "    'Bucket': 'my-bucket-name',\n",
    "    'Key': 'prefix/my-file'\n",
    "}\n",
    "s3_resource.Object(\"my-bucket-name\", 'prefix/new-file').copy_from(\n",
    " CopySource=copy_source)\n",
    "```"
   ]
  },
  {
   "cell_type": "markdown",
   "metadata": {},
   "source": [
    "download a file from s3 to local space\n",
    "```python\n",
    "client = boto3.client('s3')\n",
    "client.download_file(Bucket='my-bucket-name', Key='key', Filename='local-path/file-name')\n",
    "```"
   ]
  },
  {
   "cell_type": "markdown",
   "metadata": {},
   "source": [
    "delete a file from s3\n",
    "```python\n",
    "s3_resource.Object('my-bucket-name', 'prefix/my-file').delete()\n",
    "```"
   ]
  },
  {
   "cell_type": "markdown",
   "metadata": {
    "heading_collapsed": true
   },
   "source": [
    "### test local file reading and s3 reading for comparison. 300 files, 28ms vs 11s. That is 400 times slower!\n",
    "\n",
    "I first tried using boto3 to access files on s3 for the whole training process. It was quite slow, so I tried copying the data on the instance ECS (looks like a local copy but apparently it is not exactly local). I noticed that the trainig job is not any faster. So, maybe for this small set of images, the data was cached, therefore it is faster. It is mentioned in AWS documents that ECS is no faster than S3 as ECS also uses network for data transfer."
   ]
  },
  {
   "cell_type": "code",
   "execution_count": 77,
   "metadata": {
    "hidden": true
   },
   "outputs": [
    {
     "name": "stdout",
     "output_type": "stream",
     "text": [
      "CPU times: user 3.83 s, sys: 129 ms, total: 3.96 s\n",
      "Wall time: 10.8 s\n"
     ]
    }
   ],
   "source": [
    "%%time\n",
    "for i in range(100):\n",
    "    obj_dict = client.get_object(Bucket='my-bucket-name', Key=\"key1\")\n",
    "    obj_dict = client.get_object(Bucket='my-bucket-name', Key=\"key2\")\n",
    "    obj_dict = client.get_object(Bucket='my-bucket-name', Key=\"key3\")"
   ]
  },
  {
   "cell_type": "code",
   "execution_count": 76,
   "metadata": {
    "hidden": true
   },
   "outputs": [
    {
     "name": "stdout",
     "output_type": "stream",
     "text": [
      "CPU times: user 4.54 ms, sys: 23.8 ms, total: 28.3 ms\n",
      "Wall time: 27.8 ms\n"
     ]
    }
   ],
   "source": [
    "%%time\n",
    "for i in range(100):\n",
    "    f = open(\"file1\", \"rb\")\n",
    "    f.read()\n",
    "    f = open(\"file2\", \"rb\")\n",
    "    f.read()\n",
    "    f = open(\"file3\", \"rb\")\n",
    "    f.read()"
   ]
  },
  {
   "cell_type": "markdown",
   "metadata": {
    "heading_collapsed": true
   },
   "source": [
    "# Unzip the data in S3, and zip the results in S3"
   ]
  },
  {
   "cell_type": "code",
   "execution_count": 6,
   "metadata": {
    "hidden": true
   },
   "outputs": [],
   "source": [
    "# The following code (class S3File) is copied from https://alexwlchan.net/2019/02/working-with-large-s3-objects/\n",
    "# thanks to Alex Chan\n",
    "import io\n",
    "class S3File(io.RawIOBase):\n",
    "    def __init__(self, s3_object):\n",
    "        self.s3_object = s3_object\n",
    "        self.position = 0\n",
    "\n",
    "    def seek(self, offset, whence=io.SEEK_SET):\n",
    "        if whence == io.SEEK_SET:\n",
    "            self.position = offset\n",
    "        elif whence == io.SEEK_CUR:\n",
    "            self.position += offset\n",
    "        elif whence == io.SEEK_END:\n",
    "            self.position = self.s3_object.content_length + offset\n",
    "        else:\n",
    "            raise ValueError(\"invalid whence (%r, should be %d, %d, %d)\" % (\n",
    "                whence, io.SEEK_SET, io.SEEK_CUR, io.SEEK_END\n",
    "            ))\n",
    "\n",
    "        return self.position\n",
    "\n",
    "    def seekable(self):\n",
    "        return True\n",
    "\n",
    "    @property\n",
    "    def size(self):\n",
    "        return self.s3_object.content_length\n",
    "\n",
    "    def read(self, size=-1):\n",
    "        if size == -1:\n",
    "            # Read to the end of the file\n",
    "            range_header = \"bytes=%d-\" % self.position\n",
    "            self.seek(offset=0, whence=io.SEEK_END)\n",
    "        else:\n",
    "            new_position = self.position + size\n",
    "\n",
    "            # If we're going to read beyond the end of the object, return\n",
    "            # the entire object.\n",
    "            if new_position >= self.size:\n",
    "                return self.read()\n",
    "\n",
    "            range_header = \"bytes=%d-%d\" % (self.position, new_position - 1)\n",
    "            self.seek(offset=size, whence=io.SEEK_CUR)\n",
    "\n",
    "        return self.s3_object.get(Range=range_header)[\"Body\"].read()\n",
    "\n",
    "    def readable(self):\n",
    "        return True"
   ]
  },
  {
   "cell_type": "code",
   "execution_count": null,
   "metadata": {
    "hidden": true,
    "scrolled": true
   },
   "outputs": [],
   "source": [
    "#don't do again. This unzips the data.\n",
    "import boto3\n",
    "import zipfile\n",
    "from io import BytesIO\n",
    "s3_resource = boto3.resource('s3')\n",
    "zip_obj = s3_resource.Object(bucket_name=\"my-bucket-name\", key='prefix/my-file.zip')\n",
    "s3_file = S3File(zip_obj)\n",
    "z = zipfile.ZipFile(s3_file)\n",
    "for filename in z.namelist():\n",
    "    file_info = z.getinfo(filename)\n",
    "    s3_resource.meta.client.upload_fileobj(\n",
    "        z.open(filename),\n",
    "        Bucket=\"my-bucket-name\",\n",
    "        Key=f'prefix/{filename}'\n",
    "    )"
   ]
  },
  {
   "cell_type": "markdown",
   "metadata": {
    "hidden": true
   },
   "source": [
    "### this should make a zip file on local machine, then upload it to s3"
   ]
  },
  {
   "cell_type": "code",
   "execution_count": 26,
   "metadata": {
    "hidden": true,
    "scrolled": true
   },
   "outputs": [],
   "source": [
    "from io import BytesIO\n",
    "import os, boto3\n",
    "import zipfile\n",
    "zf = zipfile.ZipFile('myZipFile.zip', \"w\")\n",
    "\n",
    "client = boto3.client('s3')\n",
    "paginator = client.get_paginator('list_objects_v2')\n",
    "page_iterator = paginator.paginate(Bucket='my-bucket-name', Prefix ='some-prefix')\n",
    "for page in page_iterator:\n",
    "    for content in page['Contents']:\n",
    "        client.download_file(Bucket='my-bucket-name', Key=content['Key'], Filename= 'tempFile')\n",
    "        zf.write('tempFile', content['Key'][12:]) #here I have ignored the first 12 letters of key (that correspond to folder names)\n",
    "zf.close()"
   ]
  },
  {
   "cell_type": "code",
   "execution_count": 28,
   "metadata": {
    "hidden": true
   },
   "outputs": [],
   "source": [
    "client.upload_file('myZipFile.zip', 'my-bucket-name', 'prefix/myZipFile.zip')"
   ]
  },
  {
   "cell_type": "markdown",
   "metadata": {
    "heading_collapsed": true
   },
   "source": [
    "# Use data on S3 in your image classification code: Do Monkey Patching and define new functions instead of fastai functions for using S3"
   ]
  },
  {
   "cell_type": "code",
   "execution_count": 4,
   "metadata": {
    "hidden": true
   },
   "outputs": [],
   "source": [
    "import fastai.vision.data\n",
    "def open_image_fromS3(fn:str, div:bool=True, convert_mode:str='RGB', \n",
    "                      cls:type=fastai.vision.image.Image, after_open=None)->fastai.vision.image.Image:\n",
    "    \"Return `Image` object created from image in file `fn`.\"\n",
    "    fn= fn[2:]\n",
    "    with warnings.catch_warnings():\n",
    "        warnings.simplefilter(\"ignore\", UserWarning) # EXIF warning from TiffPlugin\n",
    "        file_object=client.get_object(Bucket='my-bucket-name', Key='prefix/'+fn)\n",
    "        x = PIL.Image.open(file_object['Body']).convert(convert_mode)\n",
    "    x = pil2tensor(x,np.float32)\n",
    "    if div: x.div_(255)\n",
    "    return cls(x)\n",
    "fastai.vision.data.open_image= open_image_fromS3"
   ]
  },
  {
   "cell_type": "code",
   "execution_count": 5,
   "metadata": {
    "hidden": true
   },
   "outputs": [],
   "source": [
    "def get_files_fromS3(bucket_name:str, prefix:str)->FilePathList:\n",
    "    \"Return list of files in bucket with prefix\"\n",
    "    f=[]\n",
    "    client = boto3.client('s3')\n",
    "    paginator = client.get_paginator('list_objects_v2')\n",
    "    page_iterator = paginator.paginate(Bucket='my-bucket-name', Prefix =prefix)\n",
    "    for page in page_iterator:\n",
    "        for content in page['Contents']:\n",
    "            f.append(content['Key'])\n",
    "    f= f[1:len(f)]\n",
    "    return f\n",
    "                \n",
    "def get_image_files_fromS3(bucket_name:str, prefix:str)->FilePathList:\n",
    "    return get_files_fromS3(bucket_name, prefix)"
   ]
  },
  {
   "cell_type": "markdown",
   "metadata": {
    "heading_collapsed": true,
    "hidden": true
   },
   "source": [
    "### The main job from s3"
   ]
  },
  {
   "cell_type": "code",
   "execution_count": 6,
   "metadata": {
    "hidden": true
   },
   "outputs": [],
   "source": [
    "fnames = get_image_files_fromS3('my-bucket-name', 'prefix')"
   ]
  },
  {
   "cell_type": "code",
   "execution_count": 7,
   "metadata": {
    "hidden": true
   },
   "outputs": [],
   "source": [
    "client = boto3.client('s3')\n",
    "client.download_file(Bucket='my-bucket-name', Key='train.csv', Filename='train.csv')\n",
    "df=pd.read_csv('train.csv')"
   ]
  },
  {
   "cell_type": "code",
   "execution_count": 8,
   "metadata": {
    "hidden": true
   },
   "outputs": [],
   "source": [
    "filtered_names=[os.path.splitext(os.path.basename(fn))[0] for fn in fnames]"
   ]
  },
  {
   "cell_type": "code",
   "execution_count": 9,
   "metadata": {
    "hidden": true
   },
   "outputs": [],
   "source": [
    "df=df[df['image_name'].isin(filtered_names)]"
   ]
  },
  {
   "cell_type": "code",
   "execution_count": 10,
   "metadata": {
    "hidden": true,
    "scrolled": false
   },
   "outputs": [],
   "source": [
    "df.loc[:, 'file_name']= df.loc[:,'image_name']+'.jpg'"
   ]
  },
  {
   "cell_type": "code",
   "execution_count": 11,
   "metadata": {
    "hidden": true
   },
   "outputs": [],
   "source": [
    "def label_func(fn):\n",
    "    fn1=os.path.basename(fn)\n",
    "    return df.loc[df['file_name']==fn1, 'target'].iloc[0]"
   ]
  },
  {
   "cell_type": "code",
   "execution_count": 12,
   "metadata": {
    "hidden": true
   },
   "outputs": [],
   "source": [
    "src=ImageList.from_df(df, \"\", cols='file_name').split_by_rand_pct(0.2, seed=None)\n",
    "lls=src.label_from_func(label_func)"
   ]
  },
  {
   "cell_type": "code",
   "execution_count": 13,
   "metadata": {
    "hidden": true
   },
   "outputs": [
    {
     "name": "stdout",
     "output_type": "stream",
     "text": [
      "LabelLists;\n",
      "\n",
      "Train: LabelList (26501 items)\n",
      "x: ImageList\n",
      "Image (3, 4000, 6000),Image (3, 1053, 1872),Image (3, 1053, 1872),Image (3, 4000, 6000),Image (3, 4000, 6000)\n",
      "y: CategoryList\n",
      "0,0,0,0,0\n",
      "Path: .;\n",
      "\n",
      "Valid: LabelList (6625 items)\n",
      "x: ImageList\n",
      "Image (3, 1053, 1872),Image (3, 4000, 6000),Image (3, 4000, 6000),Image (3, 480, 640),Image (3, 1053, 1872)\n",
      "y: CategoryList\n",
      "0,0,0,0,0\n",
      "Path: .;\n",
      "\n",
      "Test: None\n"
     ]
    }
   ],
   "source": [
    "print(lls)\n",
    "bs = 16\n",
    "data=ImageDataBunch.create_from_ll(lls, bs=bs, ds_tfms=get_transforms(), size=224).normalize(imagenet_stats)"
   ]
  },
  {
   "cell_type": "code",
   "execution_count": null,
   "metadata": {
    "hidden": true,
    "scrolled": true
   },
   "outputs": [],
   "source": [
    "data.show_batch(rows=2, figsize=(7,6))"
   ]
  },
  {
   "cell_type": "code",
   "execution_count": 15,
   "metadata": {
    "hidden": true
   },
   "outputs": [
    {
     "name": "stdout",
     "output_type": "stream",
     "text": [
      "[0, 1]\n"
     ]
    },
    {
     "data": {
      "text/plain": [
       "(2, 2)"
      ]
     },
     "execution_count": 15,
     "metadata": {},
     "output_type": "execute_result"
    }
   ],
   "source": [
    "print(data.classes)\n",
    "len(data.classes),data.c"
   ]
  },
  {
   "cell_type": "code",
   "execution_count": 16,
   "metadata": {
    "hidden": true,
    "scrolled": false
   },
   "outputs": [
    {
     "name": "stderr",
     "output_type": "stream",
     "text": [
      "Downloading: \"https://download.pytorch.org/models/resnet34-333f7ec4.pth\" to /home/ec2-user/.cache/torch/checkpoints/resnet34-333f7ec4.pth\n"
     ]
    },
    {
     "data": {
      "application/vnd.jupyter.widget-view+json": {
       "model_id": "59b84c102c9240e2955b049721040b27",
       "version_major": 2,
       "version_minor": 0
      },
      "text/plain": [
       "HBox(children=(FloatProgress(value=0.0, max=87306240.0), HTML(value='')))"
      ]
     },
     "metadata": {},
     "output_type": "display_data"
    },
    {
     "name": "stdout",
     "output_type": "stream",
     "text": [
      "\n"
     ]
    }
   ],
   "source": [
    "learn = cnn_learner(data, models.resnet34, metrics=error_rate)"
   ]
  },
  {
   "cell_type": "code",
   "execution_count": null,
   "metadata": {
    "hidden": true
   },
   "outputs": [],
   "source": [
    "learn.fit_one_cycle(1)\n",
    "learn.save('stage-1')"
   ]
  },
  {
   "cell_type": "code",
   "execution_count": 19,
   "metadata": {
    "hidden": true
   },
   "outputs": [
    {
     "data": {
      "text/html": [
       "<table border=\"1\" class=\"dataframe\">\n",
       "  <thead>\n",
       "    <tr style=\"text-align: left;\">\n",
       "      <th>epoch</th>\n",
       "      <th>train_loss</th>\n",
       "      <th>valid_loss</th>\n",
       "      <th>error_rate</th>\n",
       "      <th>time</th>\n",
       "    </tr>\n",
       "  </thead>\n",
       "  <tbody>\n",
       "    <tr>\n",
       "      <td>0</td>\n",
       "      <td>0.106937</td>\n",
       "      <td>0.079567</td>\n",
       "      <td>0.016000</td>\n",
       "      <td>1:55:50</td>\n",
       "    </tr>\n",
       "    <tr>\n",
       "      <td>1</td>\n",
       "      <td>0.067422</td>\n",
       "      <td>0.070661</td>\n",
       "      <td>0.016000</td>\n",
       "      <td>1:57:12</td>\n",
       "    </tr>\n",
       "  </tbody>\n",
       "</table>"
      ],
      "text/plain": [
       "<IPython.core.display.HTML object>"
      ]
     },
     "metadata": {},
     "output_type": "display_data"
    }
   ],
   "source": [
    "learn.load('stage-1')\n",
    "learn.fit_one_cycle(2)"
   ]
  },
  {
   "cell_type": "code",
   "execution_count": 20,
   "metadata": {
    "hidden": true
   },
   "outputs": [],
   "source": [
    "learn.save('stage-3')"
   ]
  },
  {
   "cell_type": "code",
   "execution_count": 21,
   "metadata": {
    "hidden": true
   },
   "outputs": [
    {
     "name": "stdout",
     "output_type": "stream",
     "text": [
      "total 179240\r\n",
      "-rw-rw-r-- 1 ec2-user ec2-user 91767834 Aug  4 06:20 stage-1.pth\r\n",
      "-rw-rw-r-- 1 ec2-user ec2-user 91767834 Aug  6 04:03 stage-3.pth\r\n"
     ]
    }
   ],
   "source": [
    "!ls -l models"
   ]
  },
  {
   "cell_type": "code",
   "execution_count": 22,
   "metadata": {
    "hidden": true
   },
   "outputs": [],
   "source": [
    "client = boto3.client('s3')\n",
    "client.upload_file(Filename='models/stage-3.pth', Bucket='my-bucket-name',\n",
    "                   Key='models/first_model_three_cycles.pth')"
   ]
  },
  {
   "cell_type": "code",
   "execution_count": 23,
   "metadata": {
    "hidden": true
   },
   "outputs": [
    {
     "data": {
      "text/html": [],
      "text/plain": [
       "<IPython.core.display.HTML object>"
      ]
     },
     "metadata": {},
     "output_type": "display_data"
    },
    {
     "data": {
      "text/plain": [
       "True"
      ]
     },
     "execution_count": 23,
     "metadata": {},
     "output_type": "execute_result"
    }
   ],
   "source": [
    "interp = ClassificationInterpretation.from_learner(learn)\n",
    "\n",
    "losses,idxs = interp.top_losses()\n",
    "\n",
    "len(data.valid_ds)==len(losses)==len(idxs)"
   ]
  },
  {
   "cell_type": "code",
   "execution_count": null,
   "metadata": {
    "hidden": true,
    "scrolled": true
   },
   "outputs": [],
   "source": [
    "interp.plot_top_losses(9, figsize=(15,11))"
   ]
  },
  {
   "cell_type": "code",
   "execution_count": null,
   "metadata": {
    "hidden": true,
    "scrolled": false
   },
   "outputs": [],
   "source": [
    "interp.plot_confusion_matrix(figsize=(12,12), dpi=60)"
   ]
  },
  {
   "cell_type": "code",
   "execution_count": null,
   "metadata": {
    "hidden": true,
    "scrolled": true
   },
   "outputs": [],
   "source": [
    "interp.most_confused(min_val=2)"
   ]
  },
  {
   "cell_type": "markdown",
   "metadata": {},
   "source": [
    "# Do the training job from instance storage"
   ]
  },
  {
   "cell_type": "markdown",
   "metadata": {},
   "source": [
    "### download the data from s3 to instance storage"
   ]
  },
  {
   "cell_type": "code",
   "execution_count": 31,
   "metadata": {},
   "outputs": [],
   "source": [
    "client = boto3.client('s3')\n",
    "client.download_file(Bucket='my-bucket-name', Key='prefix/train.zip', Filename='train.zip')\n",
    "!unzip train.zip -d jpeg\n",
    "!rm train.zip "
   ]
  },
  {
   "cell_type": "markdown",
   "metadata": {},
   "source": [
    "### the main job"
   ]
  },
  {
   "cell_type": "code",
   "execution_count": 6,
   "metadata": {},
   "outputs": [],
   "source": [
    "fnames = get_image_files('jpeg/train')"
   ]
  },
  {
   "cell_type": "code",
   "execution_count": 7,
   "metadata": {},
   "outputs": [],
   "source": [
    "df=pd.read_csv('train.csv')"
   ]
  },
  {
   "cell_type": "code",
   "execution_count": 9,
   "metadata": {
    "scrolled": false
   },
   "outputs": [],
   "source": [
    "df.loc[:, 'file_name']= df.loc[:,'image_name']+'.jpg'"
   ]
  },
  {
   "cell_type": "code",
   "execution_count": 10,
   "metadata": {},
   "outputs": [],
   "source": [
    "#data was highly unbalanced. This made things much better!\n",
    "from sklearn.utils import shuffle\n",
    "df_mallignant=df[df['target']==1]\n",
    "for i in range(55):\n",
    "    df=df.append(df_mallignant)\n",
    "df = shuffle(df)"
   ]
  },
  {
   "cell_type": "code",
   "execution_count": 11,
   "metadata": {},
   "outputs": [],
   "source": [
    "def label_func(fn):\n",
    "    fn1=os.path.basename(fn)\n",
    "    return df.loc[df['file_name']==fn1, 'target'].iloc[0]"
   ]
  },
  {
   "cell_type": "code",
   "execution_count": 12,
   "metadata": {},
   "outputs": [],
   "source": [
    "path=Path('jpeg/train')"
   ]
  },
  {
   "cell_type": "code",
   "execution_count": 13,
   "metadata": {},
   "outputs": [],
   "source": [
    "src=ImageList.from_df(df, path, cols='file_name').split_by_rand_pct(0.1, seed=None)\n",
    "lls=src.label_from_func(label_func)"
   ]
  },
  {
   "cell_type": "code",
   "execution_count": 14,
   "metadata": {},
   "outputs": [],
   "source": [
    "bs = 64\n",
    "data=ImageDataBunch.create_from_ll(lls, bs=bs, ds_tfms=get_transforms(), size=224).normalize(imagenet_stats)"
   ]
  },
  {
   "cell_type": "code",
   "execution_count": null,
   "metadata": {
    "scrolled": true
   },
   "outputs": [],
   "source": [
    "data.show_batch(rows=2, figsize=(7,6))"
   ]
  },
  {
   "cell_type": "code",
   "execution_count": 14,
   "metadata": {
    "scrolled": true
   },
   "outputs": [
    {
     "name": "stdout",
     "output_type": "stream",
     "text": [
      "[0, 1]\n"
     ]
    },
    {
     "data": {
      "text/plain": [
       "(2, 2)"
      ]
     },
     "execution_count": 14,
     "metadata": {},
     "output_type": "execute_result"
    }
   ],
   "source": [
    "print(data.classes)\n",
    "len(data.classes),data.c"
   ]
  },
  {
   "cell_type": "code",
   "execution_count": 15,
   "metadata": {},
   "outputs": [],
   "source": [
    "learn = cnn_learner(data, models.resnet101, metrics=accuracy, pretrained=True)"
   ]
  },
  {
   "cell_type": "code",
   "execution_count": null,
   "metadata": {},
   "outputs": [],
   "source": [
    "learn.load('resnet101-pretrained-unfreeze-4-cycle')"
   ]
  },
  {
   "cell_type": "code",
   "execution_count": 17,
   "metadata": {
    "scrolled": true
   },
   "outputs": [
    {
     "data": {
      "text/html": [
       "<table border=\"1\" class=\"dataframe\">\n",
       "  <thead>\n",
       "    <tr style=\"text-align: left;\">\n",
       "      <th>epoch</th>\n",
       "      <th>train_loss</th>\n",
       "      <th>valid_loss</th>\n",
       "      <th>accuracy</th>\n",
       "      <th>time</th>\n",
       "    </tr>\n",
       "  </thead>\n",
       "  <tbody>\n",
       "    <tr>\n",
       "      <td>0</td>\n",
       "      <td>0.025089</td>\n",
       "      <td>0.006772</td>\n",
       "      <td>0.998161</td>\n",
       "      <td>1:26:50</td>\n",
       "    </tr>\n",
       "  </tbody>\n",
       "</table>"
      ],
      "text/plain": [
       "<IPython.core.display.HTML object>"
      ]
     },
     "metadata": {},
     "output_type": "display_data"
    }
   ],
   "source": [
    "# resnet101 5th cycle\n",
    "learn.unfreeze()\n",
    "learn.fit_one_cycle(1, max_lr=slice(1e-4,1e-3))"
   ]
  },
  {
   "cell_type": "code",
   "execution_count": 16,
   "metadata": {
    "scrolled": true
   },
   "outputs": [
    {
     "data": {
      "text/html": [
       "<table border=\"1\" class=\"dataframe\">\n",
       "  <thead>\n",
       "    <tr style=\"text-align: left;\">\n",
       "      <th>epoch</th>\n",
       "      <th>train_loss</th>\n",
       "      <th>valid_loss</th>\n",
       "      <th>accuracy</th>\n",
       "      <th>time</th>\n",
       "    </tr>\n",
       "  </thead>\n",
       "  <tbody>\n",
       "    <tr>\n",
       "      <td>0</td>\n",
       "      <td>0.120552</td>\n",
       "      <td>0.087003</td>\n",
       "      <td>0.971643</td>\n",
       "      <td>1:30:40</td>\n",
       "    </tr>\n",
       "    <tr>\n",
       "      <td>1</td>\n",
       "      <td>0.022726</td>\n",
       "      <td>0.014764</td>\n",
       "      <td>0.995402</td>\n",
       "      <td>1:28:41</td>\n",
       "    </tr>\n",
       "  </tbody>\n",
       "</table>"
      ],
      "text/plain": [
       "<IPython.core.display.HTML object>"
      ]
     },
     "metadata": {},
     "output_type": "display_data"
    }
   ],
   "source": [
    "#this is for resnet101, pretrained, and 3rd and 4th cycles with balanced data\n",
    "#learn.unfreeze()\n",
    "#learn.fit_one_cycle(2, max_lr=slice(1e-4,1e-3))"
   ]
  },
  {
   "cell_type": "code",
   "execution_count": 17,
   "metadata": {
    "scrolled": true
   },
   "outputs": [
    {
     "data": {
      "text/html": [
       "<table border=\"1\" class=\"dataframe\">\n",
       "  <thead>\n",
       "    <tr style=\"text-align: left;\">\n",
       "      <th>epoch</th>\n",
       "      <th>train_loss</th>\n",
       "      <th>valid_loss</th>\n",
       "      <th>accuracy</th>\n",
       "      <th>time</th>\n",
       "    </tr>\n",
       "  </thead>\n",
       "  <tbody>\n",
       "    <tr>\n",
       "      <td>0</td>\n",
       "      <td>0.406675</td>\n",
       "      <td>0.295531</td>\n",
       "      <td>0.877577</td>\n",
       "      <td>1:25:51</td>\n",
       "    </tr>\n",
       "    <tr>\n",
       "      <td>1</td>\n",
       "      <td>0.317882</td>\n",
       "      <td>0.214484</td>\n",
       "      <td>0.920417</td>\n",
       "      <td>1:26:11</td>\n",
       "    </tr>\n",
       "  </tbody>\n",
       "</table>"
      ],
      "text/plain": [
       "<IPython.core.display.HTML object>"
      ]
     },
     "metadata": {},
     "output_type": "display_data"
    }
   ],
   "source": [
    "#this is for resnet34, freezed, the first and second cycle with balanced data\n",
    "#learn.fit_one_cycle(2)"
   ]
  },
  {
   "cell_type": "code",
   "execution_count": 18,
   "metadata": {},
   "outputs": [],
   "source": [
    "learn.save('resnet101-pretrained-unfreeze-5-cycle')"
   ]
  },
  {
   "cell_type": "code",
   "execution_count": 19,
   "metadata": {},
   "outputs": [],
   "source": [
    "client.upload_file(Filename='jpeg/train/models/resnet101-pretrained-unfreeze-5-cycle.pth', Bucket='my-bucket-name',\n",
    "                   Key='models/resnet101-pretrained-unfreeze-5-cycle.pth')"
   ]
  },
  {
   "cell_type": "code",
   "execution_count": 20,
   "metadata": {},
   "outputs": [
    {
     "data": {
      "text/html": [],
      "text/plain": [
       "<IPython.core.display.HTML object>"
      ]
     },
     "metadata": {},
     "output_type": "display_data"
    },
    {
     "data": {
      "text/plain": [
       "True"
      ]
     },
     "execution_count": 20,
     "metadata": {},
     "output_type": "execute_result"
    }
   ],
   "source": [
    "interp = ClassificationInterpretation.from_learner(learn)\n",
    "\n",
    "losses,idxs = interp.top_losses()\n",
    "\n",
    "len(data.valid_ds)==len(losses)==len(idxs)"
   ]
  },
  {
   "cell_type": "code",
   "execution_count": null,
   "metadata": {
    "scrolled": false
   },
   "outputs": [],
   "source": [
    "interp.plot_top_losses(9, figsize=(15,11)) "
   ]
  },
  {
   "cell_type": "code",
   "execution_count": null,
   "metadata": {
    "scrolled": true
   },
   "outputs": [],
   "source": [
    "interp.plot_confusion_matrix(figsize=(12,12), dpi=60) "
   ]
  },
  {
   "cell_type": "code",
   "execution_count": null,
   "metadata": {},
   "outputs": [],
   "source": [
    "interp.most_confused(min_val=2)"
   ]
  },
  {
   "cell_type": "code",
   "execution_count": 18,
   "metadata": {
    "scrolled": true
   },
   "outputs": [
    {
     "data": {
      "text/html": [
       "\n",
       "    <div>\n",
       "        <style>\n",
       "            /* Turns off some styling */\n",
       "            progress {\n",
       "                /* gets rid of default border in Firefox and Opera. */\n",
       "                border: none;\n",
       "                /* Needs to be in here for Safari polyfill so background images work as expected. */\n",
       "                background-size: auto;\n",
       "            }\n",
       "            .progress-bar-interrupted, .progress-bar-interrupted::-webkit-progress-bar {\n",
       "                background: #F44336;\n",
       "            }\n",
       "        </style>\n",
       "      <progress value='0' class='' max='1', style='width:300px; height:20px; vertical-align: middle;'></progress>\n",
       "      0.00% [0/1 00:00<00:00]\n",
       "    </div>\n",
       "    \n",
       "<table border=\"1\" class=\"dataframe\">\n",
       "  <thead>\n",
       "    <tr style=\"text-align: left;\">\n",
       "      <th>epoch</th>\n",
       "      <th>train_loss</th>\n",
       "      <th>valid_loss</th>\n",
       "      <th>auc_roc_score</th>\n",
       "      <th>time</th>\n",
       "    </tr>\n",
       "  </thead>\n",
       "  <tbody>\n",
       "  </tbody>\n",
       "</table><p>\n",
       "\n",
       "    <div>\n",
       "        <style>\n",
       "            /* Turns off some styling */\n",
       "            progress {\n",
       "                /* gets rid of default border in Firefox and Opera. */\n",
       "                border: none;\n",
       "                /* Needs to be in here for Safari polyfill so background images work as expected. */\n",
       "                background-size: auto;\n",
       "            }\n",
       "            .progress-bar-interrupted, .progress-bar-interrupted::-webkit-progress-bar {\n",
       "                background: #F44336;\n",
       "            }\n",
       "        </style>\n",
       "      <progress value='82' class='' max='1656', style='width:300px; height:20px; vertical-align: middle;'></progress>\n",
       "      4.95% [82/1656 05:03<1:37:04 0.0616]\n",
       "    </div>\n",
       "    "
      ],
      "text/plain": [
       "<IPython.core.display.HTML object>"
      ]
     },
     "metadata": {},
     "output_type": "display_data"
    },
    {
     "name": "stdout",
     "output_type": "stream",
     "text": [
      "LR Finder is complete, type {learner_name}.recorder.plot() to see the graph.\n"
     ]
    }
   ],
   "source": [
    "learn.lr_find()"
   ]
  },
  {
   "cell_type": "code",
   "execution_count": 19,
   "metadata": {
    "scrolled": true
   },
   "outputs": [
    {
     "data": {
      "image/png": "[encoded data removed]",
      "text/plain": [
       "<Figure size 432x288 with 1 Axes>"
      ]
     },
     "metadata": {
      "needs_background": "light"
     },
     "output_type": "display_data"
    }
   ],
   "source": [
    "learn.recorder.plot()"
   ]
  },
  {
   "cell_type": "markdown",
   "metadata": {},
   "source": [
    "find a lr from the plot, where the slop is the sharpest, downward! try to find something safe! not something between 2 points that are accidentally like that! This plot is actually not similar to what Jeremy showed in the lectures, but I guess something around 2e-05 to 4e-05 is the best according to this plot. Then do the unfreez and a few more epochs of training\n",
    "```python \n",
    "learn.unfreeze()\n",
    "learn.fit_one_cycle(2, max_lr=slice(2e-5, 4e-5))\n",
    "```"
   ]
  },
  {
   "cell_type": "markdown",
   "metadata": {},
   "source": [
    "## Find AUCROC for validation set"
   ]
  },
  {
   "cell_type": "code",
   "execution_count": null,
   "metadata": {},
   "outputs": [],
   "source": [
    "from sklearn.metrics import roc_auc_score"
   ]
  },
  {
   "cell_type": "code",
   "execution_count": null,
   "metadata": {},
   "outputs": [
    {
     "data": {
      "text/html": [
       "\n",
       "    <div>\n",
       "        <style>\n",
       "            /* Turns off some styling */\n",
       "            progress {\n",
       "                /* gets rid of default border in Firefox and Opera. */\n",
       "                border: none;\n",
       "                /* Needs to be in here for Safari polyfill so background images work as expected. */\n",
       "                background-size: auto;\n",
       "            }\n",
       "            .progress-bar-interrupted, .progress-bar-interrupted::-webkit-progress-bar {\n",
       "                background: #F44336;\n",
       "            }\n",
       "        </style>\n",
       "      <progress value='377' class='' max='390', style='width:300px; height:20px; vertical-align: middle;'></progress>\n",
       "      96.67% [377/390 16:44<00:34]\n",
       "    </div>\n",
       "    "
      ],
      "text/plain": [
       "<IPython.core.display.HTML object>"
      ]
     },
     "metadata": {},
     "output_type": "display_data"
    }
   ],
   "source": [
    "get_pred_results_valid=learn.get_preds(DatasetType.Valid)\n",
    "preds_valid, y_valid= get_pred_results_valid\n",
    "preds_valid_df=pd.DataFrame(preds_valid.numpy())"
   ]
  },
  {
   "cell_type": "code",
   "execution_count": null,
   "metadata": {},
   "outputs": [],
   "source": [
    "preds_valid_df.columns=['benign_prob', 'malignant_prob']"
   ]
  },
  {
   "cell_type": "code",
   "execution_count": null,
   "metadata": {},
   "outputs": [],
   "source": [
    "preds_valid.size()"
   ]
  },
  {
   "cell_type": "code",
   "execution_count": null,
   "metadata": {},
   "outputs": [],
   "source": [
    "len(learn.data.valid_ds.items)#[0:18928] sometimes these two sizes are not the same for validation set \n",
    "#(in fastai, because it only does complete batches)"
   ]
  },
  {
   "cell_type": "code",
   "execution_count": null,
   "metadata": {},
   "outputs": [],
   "source": [
    "preds_valid_df['FileName']=data.valid_ds.items #[0:18928]"
   ]
  },
  {
   "cell_type": "code",
   "execution_count": null,
   "metadata": {},
   "outputs": [],
   "source": [
    "preds_valid_df['image_name']= preds_valid_df.apply(lambda row: os.path.basename(row['FileName']), axis=1) \n",
    "preds_valid_df['image_name']= preds_valid_df.apply(lambda row: row['image_name'][0:len(row['image_name'])-4], axis=1) "
   ]
  },
  {
   "cell_type": "code",
   "execution_count": null,
   "metadata": {},
   "outputs": [],
   "source": [
    "results=df.set_index('image_name').join(preds_valid_df.set_index('image_name'), how='inner')[['target', 'malignant_prob']]"
   ]
  },
  {
   "cell_type": "code",
   "execution_count": null,
   "metadata": {},
   "outputs": [],
   "source": [
    "roc_auc_score(results['target'], results['malignant_prob'])"
   ]
  },
  {
   "cell_type": "markdown",
   "metadata": {},
   "source": [
    "## find predictions for test set and make the submission file\n",
    "assuming that test.csv and test images are copied to the instance storage"
   ]
  },
  {
   "cell_type": "code",
   "execution_count": null,
   "metadata": {},
   "outputs": [],
   "source": [
    "fnames = get_image_files('path/test')\n",
    "df_test=pd.read_csv('path/test/test.csv')\n",
    "df_test.loc[:, 'file_name']= df_test.loc[:,'image_name']+'.jpg'\n",
    "test_data = ImageList.from_df(df_test, path=path/'test', cols='file_name')\n",
    "data.add_test(test_data)"
   ]
  },
  {
   "cell_type": "code",
   "execution_count": null,
   "metadata": {},
   "outputs": [],
   "source": [
    "get_pred_results_test=learn.get_preds(DatasetType.Test)\n",
    "preds_test, y_test= get_pred_results_test\n",
    "preds_test_df=pd.DataFrame(preds_test.numpy())\n",
    "preds_test_df['FileName']=data.test_ds.items\n",
    "preds_test_df['image_name']= preds_test_df.apply(lambda row: os.path.basename(row['FileName']), axis=1) \n",
    "preds_test_df['image_name']= preds_test_df.apply(lambda row: row['image_name'][0:len(row['image_name'])-4], axis=1) \n",
    "submission_df= preds_test_df.loc[:, ['image_name', 1]]\n",
    "submission_df.columns=['image_name', 'target']\n",
    "submission_df.set_index('image_name', drop=True, inplace=True)\n",
    "submission_df.loc[:,'target']=round(submission_df['target'], 4)\n",
    "submission_df.to_csv('path/my_submission.csv')"
   ]
  }
 ],
 "metadata": {
  "kernelspec": {
   "display_name": "conda_pytorch_p36",
   "language": "python",
   "name": "conda_pytorch_p36"
  },
  "language_info": {
   "codemirror_mode": {
    "name": "ipython",
    "version": 3
   },
   "file_extension": ".py",
   "mimetype": "text/x-python",
   "name": "python",
   "nbconvert_exporter": "python",
   "pygments_lexer": "ipython3",
   "version": "3.6.10"
  }
 },
 "nbformat": 4,
 "nbformat_minor": 4
}
